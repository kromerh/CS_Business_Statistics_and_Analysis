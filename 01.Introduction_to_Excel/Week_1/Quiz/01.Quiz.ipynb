{
 "cells": [
  {
   "cell_type": "code",
   "execution_count": 2,
   "metadata": {},
   "outputs": [
    {
     "name": "stdout",
     "output_type": "stream",
     "text": [
      "<class 'pandas.core.frame.DataFrame'>\n",
      "RangeIndex: 2002 entries, 0 to 2001\n",
      "Data columns (total 13 columns):\n",
      "Order ID                2002 non-null int64\n",
      "Order Date              2002 non-null object\n",
      "Order Priority          2002 non-null object\n",
      "Order Quantity          2002 non-null int64\n",
      "Sales                   2002 non-null float64\n",
      "Ship Mode               2002 non-null object\n",
      "Shipping Cost           2002 non-null float64\n",
      "Province                2002 non-null object\n",
      "Customer Segment        2002 non-null object\n",
      "Product Category        2002 non-null object\n",
      "Product Sub-Category    2002 non-null object\n",
      "Product Container       2002 non-null object\n",
      "Ship Date               2002 non-null object\n",
      "dtypes: float64(2), int64(2), object(9)\n",
      "memory usage: 203.5+ KB\n"
     ]
    }
   ],
   "source": [
    "import pandas as pd\n",
    "\n",
    "fname = 'data.txt'\n",
    "\n",
    "data = pd.read_csv(fname, delimiter=',')\n",
    "data.info()"
   ]
  },
  {
   "cell_type": "code",
   "execution_count": null,
   "metadata": {},
   "outputs": [],
   "source": []
  }
 ],
 "metadata": {
  "kernelspec": {
   "display_name": "Python 3",
   "language": "python",
   "name": "python3"
  },
  "language_info": {
   "codemirror_mode": {
    "name": "ipython",
    "version": 3
   },
   "file_extension": ".py",
   "mimetype": "text/x-python",
   "name": "python",
   "nbconvert_exporter": "python",
   "pygments_lexer": "ipython3",
   "version": "3.7.3"
  }
 },
 "nbformat": 4,
 "nbformat_minor": 4
}
