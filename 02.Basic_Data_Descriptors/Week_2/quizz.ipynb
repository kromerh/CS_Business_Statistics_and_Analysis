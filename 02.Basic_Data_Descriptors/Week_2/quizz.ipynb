{
 "cells": [
  {
   "cell_type": "code",
   "execution_count": 2,
   "metadata": {},
   "outputs": [
    {
     "data": {
      "text/html": [
       "<div>\n",
       "<style scoped>\n",
       "    .dataframe tbody tr th:only-of-type {\n",
       "        vertical-align: middle;\n",
       "    }\n",
       "\n",
       "    .dataframe tbody tr th {\n",
       "        vertical-align: top;\n",
       "    }\n",
       "\n",
       "    .dataframe thead th {\n",
       "        text-align: right;\n",
       "    }\n",
       "</style>\n",
       "<table border=\"1\" class=\"dataframe\">\n",
       "  <thead>\n",
       "    <tr style=\"text-align: right;\">\n",
       "      <th></th>\n",
       "      <th>Dataset A</th>\n",
       "      <th>Dataset B</th>\n",
       "      <th>Dataset C</th>\n",
       "    </tr>\n",
       "  </thead>\n",
       "  <tbody>\n",
       "    <tr>\n",
       "      <th>0</th>\n",
       "      <td>962.901899</td>\n",
       "      <td>1711.576717</td>\n",
       "      <td>25.806023</td>\n",
       "    </tr>\n",
       "    <tr>\n",
       "      <th>1</th>\n",
       "      <td>542.172459</td>\n",
       "      <td>748.046625</td>\n",
       "      <td>195.736806</td>\n",
       "    </tr>\n",
       "    <tr>\n",
       "      <th>2</th>\n",
       "      <td>442.844917</td>\n",
       "      <td>399.014818</td>\n",
       "      <td>5.436013</td>\n",
       "    </tr>\n",
       "    <tr>\n",
       "      <th>3</th>\n",
       "      <td>736.420630</td>\n",
       "      <td>418.212011</td>\n",
       "      <td>29.536340</td>\n",
       "    </tr>\n",
       "    <tr>\n",
       "      <th>4</th>\n",
       "      <td>347.759818</td>\n",
       "      <td>184.606429</td>\n",
       "      <td>10.609514</td>\n",
       "    </tr>\n",
       "  </tbody>\n",
       "</table>\n",
       "</div>"
      ],
      "text/plain": [
       "    Dataset A    Dataset B   Dataset C\n",
       "0  962.901899  1711.576717   25.806023\n",
       "1  542.172459   748.046625  195.736806\n",
       "2  442.844917   399.014818    5.436013\n",
       "3  736.420630   418.212011   29.536340\n",
       "4  347.759818   184.606429   10.609514"
      ]
     },
     "execution_count": 2,
     "metadata": {},
     "output_type": "execute_result"
    }
   ],
   "source": [
    "import pandas as pd\n",
    "import numpy as np\n",
    "\n",
    "fname = 'ca_Datasets.xlsx'\n",
    "data = pd.read_excel(fname)\n",
    "data.head()"
   ]
  },
  {
   "cell_type": "markdown",
   "metadata": {},
   "source": [
    "# 1. How many rows of data are included in the datasets given? "
   ]
  },
  {
   "cell_type": "code",
   "execution_count": 3,
   "metadata": {},
   "outputs": [
    {
     "data": {
      "text/plain": [
       "(2000, 3)"
      ]
     },
     "execution_count": 3,
     "metadata": {},
     "output_type": "execute_result"
    }
   ],
   "source": [
    "data.shape"
   ]
  },
  {
   "cell_type": "markdown",
   "metadata": {},
   "source": [
    "# 2. What is the covariance of Datasets A and B? Round to 2 decimal places.\n",
    "# 3. Which dataset pair has the highest covariance?\n",
    "# 4. Which dataset pair has the strongest relationship?"
   ]
  },
  {
   "cell_type": "code",
   "execution_count": 6,
   "metadata": {},
   "outputs": [
    {
     "data": {
      "text/html": [
       "<div>\n",
       "<style scoped>\n",
       "    .dataframe tbody tr th:only-of-type {\n",
       "        vertical-align: middle;\n",
       "    }\n",
       "\n",
       "    .dataframe tbody tr th {\n",
       "        vertical-align: top;\n",
       "    }\n",
       "\n",
       "    .dataframe thead th {\n",
       "        text-align: right;\n",
       "    }\n",
       "</style>\n",
       "<table border=\"1\" class=\"dataframe\">\n",
       "  <thead>\n",
       "    <tr style=\"text-align: right;\">\n",
       "      <th></th>\n",
       "      <th>Dataset A</th>\n",
       "      <th>Dataset B</th>\n",
       "      <th>Dataset C</th>\n",
       "    </tr>\n",
       "  </thead>\n",
       "  <tbody>\n",
       "    <tr>\n",
       "      <th>Dataset A</th>\n",
       "      <td>79391.945295</td>\n",
       "      <td>81420.522426</td>\n",
       "      <td>1.208582e+05</td>\n",
       "    </tr>\n",
       "    <tr>\n",
       "      <th>Dataset B</th>\n",
       "      <td>81420.522426</td>\n",
       "      <td>268481.454151</td>\n",
       "      <td>1.151984e+05</td>\n",
       "    </tr>\n",
       "    <tr>\n",
       "      <th>Dataset C</th>\n",
       "      <td>120858.163445</td>\n",
       "      <td>115198.394891</td>\n",
       "      <td>8.789164e+07</td>\n",
       "    </tr>\n",
       "  </tbody>\n",
       "</table>\n",
       "</div>"
      ],
      "text/plain": [
       "               Dataset A      Dataset B     Dataset C\n",
       "Dataset A   79391.945295   81420.522426  1.208582e+05\n",
       "Dataset B   81420.522426  268481.454151  1.151984e+05\n",
       "Dataset C  120858.163445  115198.394891  8.789164e+07"
      ]
     },
     "execution_count": 6,
     "metadata": {},
     "output_type": "execute_result"
    }
   ],
   "source": [
    "data.cov()"
   ]
  },
  {
   "cell_type": "markdown",
   "metadata": {},
   "source": [
    "# 5. Given that dataset A outcomes always occur before dataset B outcomes (and no other information), can you conclude that A causes B?"
   ]
  },
  {
   "cell_type": "code",
   "execution_count": 8,
   "metadata": {},
   "outputs": [
    {
     "data": {
      "text/html": [
       "<div>\n",
       "<style scoped>\n",
       "    .dataframe tbody tr th:only-of-type {\n",
       "        vertical-align: middle;\n",
       "    }\n",
       "\n",
       "    .dataframe tbody tr th {\n",
       "        vertical-align: top;\n",
       "    }\n",
       "\n",
       "    .dataframe thead th {\n",
       "        text-align: right;\n",
       "    }\n",
       "</style>\n",
       "<table border=\"1\" class=\"dataframe\">\n",
       "  <thead>\n",
       "    <tr style=\"text-align: right;\">\n",
       "      <th></th>\n",
       "      <th>Dataset A</th>\n",
       "      <th>Dataset B</th>\n",
       "      <th>Dataset C</th>\n",
       "    </tr>\n",
       "  </thead>\n",
       "  <tbody>\n",
       "    <tr>\n",
       "      <th>Dataset A</th>\n",
       "      <td>1.000000</td>\n",
       "      <td>0.557684</td>\n",
       "      <td>0.045752</td>\n",
       "    </tr>\n",
       "    <tr>\n",
       "      <th>Dataset B</th>\n",
       "      <td>0.557684</td>\n",
       "      <td>1.000000</td>\n",
       "      <td>0.023715</td>\n",
       "    </tr>\n",
       "    <tr>\n",
       "      <th>Dataset C</th>\n",
       "      <td>0.045752</td>\n",
       "      <td>0.023715</td>\n",
       "      <td>1.000000</td>\n",
       "    </tr>\n",
       "  </tbody>\n",
       "</table>\n",
       "</div>"
      ],
      "text/plain": [
       "           Dataset A  Dataset B  Dataset C\n",
       "Dataset A   1.000000   0.557684   0.045752\n",
       "Dataset B   0.557684   1.000000   0.023715\n",
       "Dataset C   0.045752   0.023715   1.000000"
      ]
     },
     "execution_count": 8,
     "metadata": {},
     "output_type": "execute_result"
    }
   ],
   "source": [
    "data.corr()"
   ]
  },
  {
   "cell_type": "markdown",
   "metadata": {},
   "source": [
    "# 6. Create a histogram of Dataset A. Based on the shape of the distribution of outcomes, which of the following is most likely true?"
   ]
  },
  {
   "cell_type": "code",
   "execution_count": 22,
   "metadata": {},
   "outputs": [
    {
     "data": {
      "image/png": "[encoded data removed]",
      "text/plain": [
       "<Figure size 432x288 with 1 Axes>"
      ]
     },
     "metadata": {
      "needs_background": "light"
     },
     "output_type": "display_data"
    }
   ],
   "source": [
    "import matplotlib.pyplot as plt\n",
    "%matplotlib inline\n",
    "\n",
    "X = data.index.values\n",
    "Y = data['Dataset A'].values\n",
    "\n",
    "plt.hist(Y, density=True, bins=25)\n",
    "plt.xlabel('bin')\n",
    "plt.ylabel('Count in Dataset A')\n",
    "plt.show()"
   ]
  },
  {
   "cell_type": "markdown",
   "metadata": {},
   "source": [
    "# 6. Create a histogram of Dataset B. Based on the shape of the distribution of outcomes, select the range below that appears to have the highest probability of occurrence."
   ]
  },
  {
   "cell_type": "code",
   "execution_count": 25,
   "metadata": {},
   "outputs": [
    {
     "data": {
      "image/png": "[encoded data removed]",
      "text/plain": [
       "<Figure size 432x288 with 1 Axes>"
      ]
     },
     "metadata": {
      "needs_background": "light"
     },
     "output_type": "display_data"
    }
   ],
   "source": [
    "import matplotlib.pyplot as plt\n",
    "%matplotlib inline\n",
    "\n",
    "X = data.index.values\n",
    "Y = data['Dataset B'].values\n",
    "\n",
    "plt.hist(Y, bins=30)\n",
    "plt.xlabel('bin')\n",
    "plt.ylabel('Count in Dataset B')\n",
    "plt.show()"
   ]
  },
  {
   "cell_type": "markdown",
   "metadata": {},
   "source": [
    "# 8. Consider 4 sets of data:\n",
    "\n",
    "- set W: set of all real numbers over the range 1 to 100.\n",
    "- set X: set of all integers over the range 1 to 100.\n",
    "- set Y: set of all real numbers over the range 1 to 3.\n",
    "- set Z: set of all whole numbers over the range 1 to 10,000.\n",
    "\n",
    "\n",
    "Which set has the LEAST numbers?"
   ]
  },
  {
   "cell_type": "code",
   "execution_count": null,
   "metadata": {},
   "outputs": [],
   "source": [
    "\n"
   ]
  }
 ],
 "metadata": {
  "kernelspec": {
   "display_name": "Python 3",
   "language": "python",
   "name": "python3"
  },
  "language_info": {
   "codemirror_mode": {
    "name": "ipython",
    "version": 3
   },
   "file_extension": ".py",
   "mimetype": "text/x-python",
   "name": "python",
   "nbconvert_exporter": "python",
   "pygments_lexer": "ipython3",
   "version": "3.7.3"
  }
 },
 "nbformat": 4,
 "nbformat_minor": 4
}
