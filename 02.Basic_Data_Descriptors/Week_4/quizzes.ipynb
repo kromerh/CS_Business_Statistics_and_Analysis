{
 "cells": [
  {
   "cell_type": "code",
   "execution_count": 5,
   "metadata": {},
   "outputs": [
    {
     "data": {
      "image/png": "[encoded data removed]",
      "text/plain": [
       "<Figure size 432x288 with 1 Axes>"
      ]
     },
     "metadata": {
      "needs_background": "light"
     },
     "output_type": "display_data"
    },
    {
     "name": "stdout",
     "output_type": "stream",
     "text": [
      "0.9318523428702554\n",
      "125.85958419720447\n"
     ]
    }
   ],
   "source": [
    "import pandas as pd\n",
    "import numpy as np\n",
    "from scipy.stats import norm\n",
    "import matplotlib.pyplot as plt\n",
    "%matplotlib inline\n",
    "\n",
    "mu, sigma = 65, 37\n",
    "# create normal distribution function\n",
    "distr = norm(loc=mu, scale=sigma)\n",
    "r = distr.rvs(size=100000)\n",
    "plt.hist(r, 100, density=True,  alpha=0.2)\n",
    "# Create the bins and histogram\n",
    "# count, bins, ignored = plt.hist(s, 100, density=True)\n",
    "plt.show()\n",
    "\n",
    "print(distr.cdf(120.12))\n",
    "print(distr.ppf(0.95))"
   ]
  },
  {
   "cell_type": "markdown",
   "metadata": {},
   "source": [
    "# Binomial distribution\n",
    "\n",
    "- p: probability of a sucess\n",
    "- n: number of trials\n",
    "- binom.pmf(X) returns the probability mass function for X, where X means that the success = X. For example to answer the questions If a random 100 samples were taken, what is the probability that exactly 5 fradulent returns were uncovered, if the fradulent probability is 5%."
   ]
  },
  {
   "cell_type": "markdown",
   "metadata": {},
   "source": [
    "### Example 1\n",
    "\n",
    "In the current tax year, IRS, the internal revenue service of the United States estimates that 5% of the many high network in individual tax returns would be fraudulent. That is they will contain errors that are purposely made to cheat the government.\n",
    "\n",
    "Question: If a random 100 such tax returns are audited, what is the probability that exactly 5 fradulent returns will be uncovered?"
   ]
  },
  {
   "cell_type": "code",
   "execution_count": null,
   "metadata": {},
   "outputs": [],
   "source": [
    "from scipy.stats import binom\n",
    "import numpy as np\n",
    "\n",
    "n = 100\n",
    "p = 0.05\n",
    "distr = binom(n, p) # n is number of trials, p is the probability\n",
    "\n",
    "print(distr.pmf(5))"
   ]
  },
  {
   "cell_type": "markdown",
   "metadata": {},
   "source": [
    "### Example 2\n",
    "\n",
    "In the current tax year, IRS, the internal revenue service of the United States estimates that 5% of the many high network in individual tax returns would be fraudulent. That is they will contain errors that are purposely made to cheat the government.\n",
    "\n",
    "Question: If a random 250 high net worth tax returns are audited, what is the probability that at least 15 fradulent returns are uncovered?"
   ]
  },
  {
   "cell_type": "code",
   "execution_count": 23,
   "metadata": {},
   "outputs": [
    {
     "name": "stdout",
     "output_type": "stream",
     "text": [
      "0.27116368769051846\n"
     ]
    }
   ],
   "source": [
    "from scipy.stats import binom\n",
    "import numpy as np\n",
    "\n",
    "n = 250\n",
    "p = 0.05\n",
    "distr = binom(n, p) # n is number of trials, p is the probability\n",
    "print(1-distr.cdf(14))"
   ]
  },
  {
   "cell_type": "markdown",
   "metadata": {},
   "source": [
    "### Example 3\n",
    "\n",
    "In the current tax year, IRS, the internal revenue service of the United States estimates that 5% of the many high network in individual tax returns would be fraudulent. That is they will contain errors that are purposely made to cheat the government.\n",
    "\n",
    "Question: If a random 250 high net worth tax returns are audited, what is the probability that at least 15 fradulent returns are uncovered but at most 20 fradulent returns?"
   ]
  },
  {
   "cell_type": "code",
   "execution_count": 26,
   "metadata": {},
   "outputs": [
    {
     "name": "stdout",
     "output_type": "stream",
     "text": [
      "0.25630709256965034\n"
     ]
    }
   ],
   "source": [
    "from scipy.stats import binom\n",
    "import numpy as np\n",
    "\n",
    "n = 250\n",
    "p = 0.05\n",
    "distr = binom(n, p) # n is number of trials, p is the probability\n",
    "P_less_14 = distr.cdf(14)\n",
    "P_less_20 = distr.cdf(20)\n",
    "print(P_less_20-P_less_14)"
   ]
  },
  {
   "cell_type": "markdown",
   "metadata": {},
   "source": [
    "### Example 4\n",
    "\n",
    "In the current tax year, IRS, the internal revenue service of the United States estimates that 5% of the many high network in individual tax returns would be fraudulent. That is they will contain errors that are purposely made to cheat the government.\n",
    "\n",
    "Question: What is the probability that out of the 250 randomly selected high net worth tax returns no fradulent return is uncovered?\n"
   ]
  },
  {
   "cell_type": "code",
   "execution_count": 30,
   "metadata": {},
   "outputs": [
    {
     "name": "stdout",
     "output_type": "stream",
     "text": [
      "2.6971265378990293e-06\n"
     ]
    }
   ],
   "source": [
    "from scipy.stats import binom\n",
    "import numpy as np\n",
    "\n",
    "n = 250\n",
    "p = 0.05\n",
    "distr = binom(n, p) # n is number of trials, p is the probability\n",
    "\n",
    "print(distr.pmf(0))"
   ]
  },
  {
   "cell_type": "markdown",
   "metadata": {},
   "source": [
    "At a manufacturing plant, the rate of a specific product being defective is 2%. If the company randomly audits 400 units of this product, what is the probability that the auditors will catch at least 20 defective units?"
   ]
  },
  {
   "cell_type": "code",
   "execution_count": 31,
   "metadata": {},
   "outputs": [
    {
     "name": "stdout",
     "output_type": "stream",
     "text": [
      "0.00021170133116366063\n"
     ]
    }
   ],
   "source": [
    "from scipy.stats import binom\n",
    "import numpy as np\n",
    "\n",
    "n = 400\n",
    "p = 0.02\n",
    "distr = binom(n, p) # n is number of trials, p is the probability\n",
    "\n",
    "P_less_19 = distr.cdf(19)\n",
    "print(1 - P_less_19)"
   ]
  },
  {
   "cell_type": "markdown",
   "metadata": {},
   "source": [
    "# Poisson distribution\n",
    "\n",
    "In a Poisson distribution the random variable can take integer values ranging from zero to infinity. So that is one distinction from the binomial distribution, where recollect that the random variable takes values changing from zero till the number of trials, n."
   ]
  },
  {
   "cell_type": "markdown",
   "metadata": {},
   "source": [
    "### Example 1\n",
    "\n",
    "A local convenience store uses a Poisson distribution to approximate the number of customers arriving each hour during week nights at the only checkout counter at the store. From past data it knows that on average 30 and a half customers arrive per hour at the checkout counter during week nights.\n",
    "\n",
    "What is the probability that 25 customers arrive at this checkout counter in a given hour during a weeknight?"
   ]
  },
  {
   "cell_type": "code",
   "execution_count": 36,
   "metadata": {},
   "outputs": [
    {
     "data": {
      "text/plain": [
       "0.0468671566896282"
      ]
     },
     "execution_count": 36,
     "metadata": {},
     "output_type": "execute_result"
    }
   ],
   "source": [
    "from scipy.stats import poisson\n",
    "import numpy as np\n",
    "\n",
    "mu = 30.5\n",
    "distr = poisson(mu) # mu is mean value of random variable\n",
    "\n",
    "distr.pmf(25)"
   ]
  },
  {
   "cell_type": "markdown",
   "metadata": {},
   "source": [
    "### Example 1\n",
    "\n",
    "A local convenience store uses a Poisson distribution to approximate the number of customers arriving each hour during week nights at the only checkout counter at the store. From past data it knows that on average 30 and a half customers arrive per hour at the checkout counter during week nights.\n",
    "\n",
    "What is the probability that fewer than 33 customers arrive at this checkout counter in a given hour during a weeknight?"
   ]
  },
  {
   "cell_type": "code",
   "execution_count": 38,
   "metadata": {},
   "outputs": [
    {
     "data": {
      "text/plain": [
       "0.6510863857312866"
      ]
     },
     "execution_count": 38,
     "metadata": {},
     "output_type": "execute_result"
    }
   ],
   "source": [
    "from scipy.stats import poisson\n",
    "import numpy as np\n",
    "\n",
    "mu = 30.5\n",
    "distr = poisson(mu) # mu is mean value of random variable\n",
    "\n",
    "distr.cdf(32) # fewer than 33 means 32 or less"
   ]
  },
  {
   "cell_type": "markdown",
   "metadata": {},
   "source": [
    "### Example 1\n",
    "\n",
    "A local convenience store uses a Poisson distribution to approximate the number of customers arriving each hour during week nights at the only checkout counter at the store. From past data it knows that on average 30 and a half customers arrive per hour at the checkout counter during week nights.\n",
    "\n",
    "What is the probability that the number of customers who arrive at the checkout is greater than 35?"
   ]
  },
  {
   "cell_type": "code",
   "execution_count": 40,
   "metadata": {},
   "outputs": [
    {
     "data": {
      "text/plain": [
       "0.1809695703013462"
      ]
     },
     "execution_count": 40,
     "metadata": {},
     "output_type": "execute_result"
    }
   ],
   "source": [
    "from scipy.stats import poisson\n",
    "import numpy as np\n",
    "\n",
    "mu = 30.5\n",
    "distr = poisson(mu) # mu is mean value of random variable\n",
    "\n",
    "1-distr.cdf(35) # greater than 35 means 1 - P(35)"
   ]
  },
  {
   "cell_type": "markdown",
   "metadata": {},
   "source": [
    "# Final Quiz"
   ]
  },
  {
   "cell_type": "markdown",
   "metadata": {},
   "source": [
    "## 1\n",
    "\n",
    "You make widgets. You want to sell your widgets at the nearby widget store, since this would potentially increase your sales. However, you would have to pay a transportation cost every day to send you widgets over to the store. You decide to run some calculations to see if you would be at risk of losing money due to the transportation costs.\n",
    "\n",
    "You know that 5 other widget companies sell widgets at that store, so you would be the 6th. Assuming a customer is equally likely to select any of the widgets, what is the probability they will select and purchase your widget? Write your answer as a probability (not a percent) rounded to 4 decimals."
   ]
  },
  {
   "cell_type": "code",
   "execution_count": 43,
   "metadata": {},
   "outputs": [
    {
     "name": "stdout",
     "output_type": "stream",
     "text": [
      "0.1667\n"
     ]
    }
   ],
   "source": [
    "from scipy.stats import binom\n",
    "import numpy as np\n",
    "\n",
    "n = 1\n",
    "p = 1/6 # any of the 6 can be purchased\n",
    "print(np.round(p,4))"
   ]
  },
  {
   "cell_type": "markdown",
   "metadata": {},
   "source": [
    "## 2\n",
    "\n",
    "The widget store owner tells you that 200 customers arrive and purchase a widget from the store each day. Assuming you must sell 30 of your widgets to cover the transportation costs, and given the probability you calculated in question 1, use a binomial distribution to estimate the probability of at least covering the transportation costs (that is, the probability of selling at least 30 widgets). Write your answer as a probability (not a percent) rounded to 4 decimals."
   ]
  },
  {
   "cell_type": "code",
   "execution_count": 45,
   "metadata": {},
   "outputs": [
    {
     "name": "stdout",
     "output_type": "stream",
     "text": [
      "0.7634\n"
     ]
    }
   ],
   "source": [
    "from scipy.stats import binom\n",
    "import numpy as np\n",
    "\n",
    "n = 200  # 200 customers arrive and purchase a widget from the store each day\n",
    "p = 1/6\n",
    "distr = binom(n, p) # n is number of trials, p is the probability\n",
    "\n",
    "X = 30 # must sell 30 at least\n",
    "\n",
    "print(np.round(1 - distr.cdf(29),4))  # 30 or more"
   ]
  },
  {
   "cell_type": "markdown",
   "metadata": {},
   "source": [
    "## 3\n",
    "\n",
    "How many minimum number of people would have to visit the store to give you at least a 0.95 probability of covering the transportation costs?\n"
   ]
  },
  {
   "cell_type": "code",
   "execution_count": 61,
   "metadata": {},
   "outputs": [
    {
     "name": "stdout",
     "output_type": "stream",
     "text": [
      "200 0.7634\n",
      "201 0.7728\n",
      "202 0.7819\n",
      "203 0.7908\n",
      "204 0.7994\n",
      "205 0.8078\n",
      "206 0.816\n",
      "207 0.8239\n",
      "208 0.8315\n",
      "209 0.8389\n",
      "210 0.8461\n",
      "211 0.853\n",
      "212 0.8597\n",
      "213 0.8662\n",
      "214 0.8724\n",
      "215 0.8785\n",
      "216 0.8843\n",
      "217 0.8898\n",
      "218 0.8952\n",
      "219 0.9004\n",
      "220 0.9053\n",
      "221 0.9101\n",
      "222 0.9146\n",
      "223 0.919\n",
      "224 0.9232\n",
      "225 0.9272\n",
      "226 0.931\n",
      "227 0.9347\n",
      "228 0.9382\n",
      "229 0.9415\n",
      "230 0.9447\n",
      "231 0.9478\n",
      "232 0.9507\n",
      "233 0.9534\n",
      "234 0.956\n",
      "235 0.9585\n",
      "236 0.9609\n",
      "237 0.9632\n",
      "238 0.9653\n",
      "239 0.9674\n",
      "240 0.9693\n",
      "241 0.9711\n",
      "242 0.9729\n",
      "243 0.9745\n",
      "244 0.976\n",
      "245 0.9775\n",
      "246 0.9789\n",
      "247 0.9802\n",
      "248 0.9814\n",
      "249 0.9826\n"
     ]
    }
   ],
   "source": [
    "from scipy.stats import binom\n",
    "import numpy as np\n",
    "\n",
    "for n in np.arange(200,250,1):\n",
    "    p = 1/6\n",
    "    distr = binom(n, p) # n is number of trials, p is the probability\n",
    "\n",
    "    X = 30 # must sell 30 at least\n",
    "\n",
    "    print(n, np.round(1 - distr.cdf(29),4))  # 30 or more"
   ]
  },
  {
   "cell_type": "markdown",
   "metadata": {},
   "source": [
    "## 4\n",
    "\n",
    "The widget store manager points out that not all widget brands get equal purchase rates. A brand on premium shelf space has a 0.28 probability of being selected by each customer. He is willing to give you premium shelf space at the front of the store for a small fee. The additional fee, plus the original transportation costs, would raise the minimum number of widgets you would have to sell to 40 (to cover transportation costs and additional fee).\n",
    "\n",
    "Assuming 200 customers come into the store, use a binomial distribution to estimate the probability of at least covering the transportation costs and additional fee. Write your answer as a probability (not a percent) rounded to 4 decimals."
   ]
  },
  {
   "cell_type": "code",
   "execution_count": 69,
   "metadata": {},
   "outputs": [
    {
     "name": "stdout",
     "output_type": "stream",
     "text": [
      "170 0.9187\n",
      "171 0.9253\n",
      "172 0.9315\n",
      "173 0.9372\n",
      "174 0.9426\n",
      "175 0.9475\n",
      "176 0.9521\n",
      "177 0.9564\n",
      "178 0.9603\n",
      "179 0.9639\n"
     ]
    }
   ],
   "source": [
    "from scipy.stats import binom\n",
    "import numpy as np\n",
    "\n",
    "for n in np.arange(170,180,1):\n",
    "    p = 0.28\n",
    "    distr = binom(n, p) # n is number of trials, p is the probability\n",
    "\n",
    "    X = 40 # must sell 40 at least\n",
    "\n",
    "    print(n, np.round(1 - distr.cdf(X-1),4))  # 40 or more"
   ]
  },
  {
   "cell_type": "markdown",
   "metadata": {},
   "source": [
    "## 5\n",
    "\n",
    "The widget store manager reminds you that while the average number of people that show up each day is 200, the actual number varies. He tells you that the customers that show up each day can be modeled with a Poisson distribution where lambda = 200.\n",
    "\n",
    "What is the probability that at least 200 customers arrive (that is, either 200 or more than 200 customers arrive)? Write your answer as a probability (not a percent) rounded to 4 decimals."
   ]
  },
  {
   "cell_type": "code",
   "execution_count": 57,
   "metadata": {},
   "outputs": [
    {
     "data": {
      "text/plain": [
       "0.5094"
      ]
     },
     "execution_count": 57,
     "metadata": {},
     "output_type": "execute_result"
    }
   ],
   "source": [
    "from scipy.stats import poisson\n",
    "import numpy as np\n",
    "\n",
    "mu = 200\n",
    "distr = poisson(mu) # mu is mean value of random variable\n",
    "\n",
    "np.round(1-distr.cdf(199),4)"
   ]
  },
  {
   "cell_type": "markdown",
   "metadata": {},
   "source": [
    "## 6\n",
    "\n",
    "How many minimum number of people would have to visit the store to give you at least a 0.95 probability of covering the transportation costs and the additional fee? Use as 0.28 the probability of a widget being selected by a person.\n",
    "\n",
    "HINT: You need to sell at least 40 widgets to cover transportation cost and the additional fee. So the number of \"successes\" need to be greater than equal to 40. The probability of \"success\" in each trial is 0.28. Now use the BINOM.DIST function trying out various values for \"n\", the number of trials."
   ]
  },
  {
   "cell_type": "code",
   "execution_count": 59,
   "metadata": {},
   "outputs": [
    {
     "name": "stdout",
     "output_type": "stream",
     "text": [
      "67.0\n",
      "0.9631025806838879\n"
     ]
    }
   ],
   "source": [
    "from scipy.stats import binom\n",
    "import numpy as np\n",
    "\n",
    "n = 200  # 200 customers arrive and purchase a widget from the store each day\n",
    "p = 0.28\n",
    "distr = binom(n, p) # n is number of trials, p is the probability\n",
    "\n",
    "X = 40 # must sell 40 at least\n",
    "\n",
    "print(distr.ppf(0.95)) \n",
    "print(distr.cdf(67))"
   ]
  },
  {
   "cell_type": "markdown",
   "metadata": {},
   "source": [
    "## 7\n",
    "\n",
    "You are curious about the accuracy of the estimates that the widget store owner gave you. If you wanted to take a random sample of daily customer arrivals, from which of the following is the population you should sample?\n",
    "\n",
    "Number of all arrivals this store was open"
   ]
  },
  {
   "cell_type": "markdown",
   "metadata": {},
   "source": [
    "## 8\n",
    "\n",
    "The store owner gives you data on customer arrivals over the last 3 years. You randomly select a sample of daily customer arrivals, and then take the mean of that sample. If you were to repeat this process multiple times, you would expect the distribution of the sample means to be:\n",
    "\n",
    "Mean os sample of population is normal distributed"
   ]
  },
  {
   "cell_type": "markdown",
   "metadata": {},
   "source": [
    "## 9 \n",
    "\n",
    "Assuming the widget store owner's original estimates (given in Question 5) are accurate, what would you expect the mean of the distribution above to be?\n",
    "\n",
    "200"
   ]
  },
  {
   "cell_type": "code",
   "execution_count": null,
   "metadata": {},
   "outputs": [],
   "source": []
  }
 ],
 "metadata": {
  "kernelspec": {
   "display_name": "Python 3",
   "language": "python",
   "name": "python3"
  },
  "language_info": {
   "codemirror_mode": {
    "name": "ipython",
    "version": 3
   },
   "file_extension": ".py",
   "mimetype": "text/x-python",
   "name": "python",
   "nbconvert_exporter": "python",
   "pygments_lexer": "ipython3",
   "version": "3.7.3"
  }
 },
 "nbformat": 4,
 "nbformat_minor": 4
}
